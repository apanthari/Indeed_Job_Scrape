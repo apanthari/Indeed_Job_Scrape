{
 "cells": [
  {
   "cell_type": "code",
   "execution_count": null,
   "id": "5ea0f556-79b5-4948-af91-e0b2621b62bf",
   "metadata": {},
   "outputs": [],
   "source": []
  }
 ],
 "metadata": {
  "kernelspec": {
   "display_name": "",
   "name": ""
  },
  "language_info": {
   "name": ""
  }
 },
 "nbformat": 4,
 "nbformat_minor": 5
}
